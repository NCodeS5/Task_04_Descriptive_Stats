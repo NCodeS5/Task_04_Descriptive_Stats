{
  "nbformat": 4,
  "nbformat_minor": 0,
  "metadata": {
    "colab": {
      "provenance": []
    },
    "kernelspec": {
      "name": "python3",
      "display_name": "Python 3"
    },
    "language_info": {
      "name": "python"
    }
  },
  "cells": [
    {
      "cell_type": "markdown",
      "source": [
        "**Loading data**\n"
      ],
      "metadata": {
        "id": "N506o6-PpauH"
      }
    },
    {
      "cell_type": "code",
      "execution_count": 44,
      "metadata": {
        "id": "sTYE3UtLkfZi"
      },
      "outputs": [],
      "source": [
        "import polars as pl\n",
        "\n",
        "filepath=\"/content/2024_fb_posts_president_scored_anon.csv\"\n",
        "\n",
        "df = pl.read_csv(\n",
        "    filepath,\n",
        "    null_values=[\"-\", \"\"],\n",
        "    ignore_errors=True,\n",
        "    truncate_ragged_lines=True\n",
        ")\n",
        "\n",
        "df = df.with_columns([pl.col(col).cast(pl.Utf8, strict=False) for col in df.columns])"
      ]
    },
    {
      "cell_type": "markdown",
      "source": [
        "**DataFrame.describe() — for general stats**"
      ],
      "metadata": {
        "id": "7Atwheycrb60"
      }
    },
    {
      "cell_type": "code",
      "source": [
        "print(\"=== Overall dataset describe ===\")\n",
        "print(df.describe())\n",
        "\n"
      ],
      "metadata": {
        "colab": {
          "base_uri": "https://localhost:8080/"
        },
        "id": "zr4fd7OvqwVS",
        "outputId": "cda19d19-ed47-4283-9760-ceccff8c84d2"
      },
      "execution_count": 45,
      "outputs": [
        {
          "output_type": "stream",
          "name": "stdout",
          "text": [
            "=== Overall dataset describe ===\n",
            "shape: (9, 57)\n",
            "┌───────────┬───────────┬───────────┬───────────┬───┬───────────┬───────────┬───────────┬──────────┐\n",
            "│ statistic ┆ Facebook_ ┆ post_id   ┆ Page      ┆ … ┆ incivilit ┆ scam_illu ┆ freefair_ ┆ fraud_il │\n",
            "│ ---       ┆ Id        ┆ ---       ┆ Category  ┆   ┆ y_illumin ┆ minating  ┆ illuminat ┆ luminati │\n",
            "│ str       ┆ ---       ┆ str       ┆ ---       ┆   ┆ ating     ┆ ---       ┆ ing       ┆ ng       │\n",
            "│           ┆ str       ┆           ┆ str       ┆   ┆ ---       ┆ str       ┆ ---       ┆ ---      │\n",
            "│           ┆           ┆           ┆           ┆   ┆ str       ┆           ┆ str       ┆ str      │\n",
            "╞═══════════╪═══════════╪═══════════╪═══════════╪═══╪═══════════╪═══════════╪═══════════╪══════════╡\n",
            "│ count     ┆ 23892     ┆ 23891     ┆ 23365     ┆ … ┆ 23891     ┆ 21993     ┆ 23890     ┆ 23891    │\n",
            "│ null_coun ┆ 0         ┆ 1         ┆ 527       ┆ … ┆ 1         ┆ 1899      ┆ 2         ┆ 1        │\n",
            "│ t         ┆           ┆           ┆           ┆   ┆           ┆           ┆           ┆          │\n",
            "│ mean      ┆ null      ┆ null      ┆ null      ┆ … ┆ null      ┆ null      ┆ null      ┆ null     │\n",
            "│ std       ┆ null      ┆ null      ┆ null      ┆ … ┆ null      ┆ null      ┆ null      ┆ null     │\n",
            "│ min       ┆ 058bd8686 ┆ 0001e4a1d ┆ ACTOR     ┆ … ┆ 0         ┆ 0.0       ┆ 0         ┆ 0        │\n",
            "│           ┆ 1262fa717 ┆ badf84f0f ┆           ┆   ┆           ┆           ┆           ┆          │\n",
            "│           ┆ 33f8515c3 ┆ 43719972b ┆           ┆   ┆           ┆           ┆           ┆          │\n",
            "│           ┆ 4b7…      ┆ 605…      ┆           ┆   ┆           ┆           ┆           ┆          │\n",
            "│ 25%       ┆ null      ┆ null      ┆ null      ┆ … ┆ null      ┆ null      ┆ null      ┆ null     │\n",
            "│ 50%       ┆ null      ┆ null      ┆ null      ┆ … ┆ null      ┆ null      ┆ null      ┆ null     │\n",
            "│ 75%       ┆ null      ┆ null      ┆ null      ┆ … ┆ null      ┆ null      ┆ null      ┆ null     │\n",
            "│ max       ┆ fedbfaab1 ┆ ffff3f550 ┆ dbe6a31a5 ┆ … ┆ 1         ┆ 1.0       ┆ 1         ┆ 1        │\n",
            "│           ┆ 9b5112a68 ┆ f95017a77 ┆ b0fb67939 ┆   ┆           ┆           ┆           ┆          │\n",
            "│           ┆ 89b862314 ┆ a35388243 ┆ 547583f52 ┆   ┆           ┆           ┆           ┆          │\n",
            "│           ┆ ca9…      ┆ b4f…      ┆ 3f5…      ┆   ┆           ┆           ┆           ┆          │\n",
            "└───────────┴───────────┴───────────┴───────────┴───┴───────────┴───────────┴───────────┴──────────┘\n"
          ]
        }
      ]
    },
    {
      "cell_type": "markdown",
      "source": [
        "**nunique() — for unique counts**"
      ],
      "metadata": {
        "id": "fRoCMWmfrfhG"
      }
    },
    {
      "cell_type": "code",
      "source": [
        "print(\"\\n=== Unique value counts for each column ===\")\n",
        "for col in df.columns:\n",
        "    unique_count = df[col].n_unique()\n",
        "    print(f\"{col}: {unique_count} unique values\")\n"
      ],
      "metadata": {
        "colab": {
          "base_uri": "https://localhost:8080/"
        },
        "id": "3YpINWCnriBq",
        "outputId": "0bfd44c0-db69-4450-eff3-19e0ec1a72be"
      },
      "execution_count": 46,
      "outputs": [
        {
          "output_type": "stream",
          "name": "stdout",
          "text": [
            "\n",
            "=== Unique value counts for each column ===\n",
            "Facebook_Id: 23 unique values\n",
            "post_id: 17065 unique values\n",
            "Page Category: 8 unique values\n",
            "Page Admin Top Country: 3 unique values\n",
            "Post Created: 17055 unique values\n",
            "Post Created Date: 368 unique values\n",
            "Post Created Time: 14553 unique values\n",
            "Type: 11 unique values\n",
            "Total Interactions: 4610 unique values\n",
            "Likes: 3413 unique values\n",
            "Comments: 2642 unique values\n",
            "Shares: 1542 unique values\n",
            "Love: 1601 unique values\n",
            "Wow: 195 unique values\n",
            "Haha: 1155 unique values\n",
            "Sad: 240 unique values\n",
            "Angry: 424 unique values\n",
            "Care: 514 unique values\n",
            "Video Share Status: 5 unique values\n",
            "Is Video Owner?: 3 unique values\n",
            "Post Views: 2843 unique values\n",
            "Total Views: 2902 unique values\n",
            "Total Views For All Crossposts: 74 unique values\n",
            "Video Length: 776 unique values\n",
            "Sponsor Id: 1 unique values\n",
            "Sponsor Name: 1 unique values\n",
            "Sponsor Category: 1 unique values\n",
            "Overperforming Score: 2009 unique values\n",
            "illuminating_scored_messageelection_integrity_Truth_illuminating: 2 unique values\n",
            "advocacy_msg_type_illuminating: 3 unique values\n",
            "issue_msg_type_illuminating: 3 unique values\n",
            "attack_msg_type_illuminating: 3 unique values\n",
            "image_msg_type_illuminating: 3 unique values\n",
            "cta_msg_type_illuminating: 3 unique values\n",
            "engagement_cta_subtype_illuminating: 3 unique values\n",
            "fundraising_cta_subtype_illuminating: 3 unique values\n",
            "voting_cta_subtype_illuminating: 3 unique values\n",
            "covid_topic_illuminating: 3 unique values\n",
            "economy_topic_illuminating: 3 unique values\n",
            "education_topic_illuminating: 3 unique values\n",
            "environment_topic_illuminating: 3 unique values\n",
            "foreign_policy_topic_illuminating: 3 unique values\n",
            "governance_topic_illuminating: 3 unique values\n",
            "health_topic_illuminating: 3 unique values\n",
            "immigration_topic_illuminating: 3 unique values\n",
            "lgbtq_issues_topic_illuminating: 3 unique values\n",
            "military_topic_illuminating: 3 unique values\n",
            "race_and_ethnicity_topic_illuminating: 3 unique values\n",
            "safety_topic_illuminating: 3 unique values\n",
            "social_and_cultural_topic_illuminating: 3 unique values\n",
            "technology_and_privacy_topic_illuminating: 3 unique values\n",
            "womens_issue_topic_illuminating: 3 unique values\n",
            "incivility_illuminating: 3 unique values\n",
            "scam_illuminating: 3 unique values\n",
            "freefair_illuminating: 3 unique values\n",
            "fraud_illuminating: 3 unique values\n"
          ]
        }
      ]
    },
    {
      "cell_type": "markdown",
      "source": [
        "**value_counts() — for most frequent values**"
      ],
      "metadata": {
        "id": "XNiJujBNrmfq"
      }
    },
    {
      "cell_type": "code",
      "source": [
        "print(\"\\n=== Most frequent value for each column ===\")\n",
        "for col in df.columns:\n",
        "    vc = df[col].value_counts()\n",
        "    count_col = vc.columns[1]\n",
        "    vc = vc.sort(count_col, descending=True)\n",
        "    if vc.height > 0:\n",
        "        val, cnt = vc.row(0)\n",
        "        print(f\"{col}: most frequent = {val} (count = {cnt})\")\n",
        "\n"
      ],
      "metadata": {
        "colab": {
          "base_uri": "https://localhost:8080/"
        },
        "id": "01SYKHNurtcr",
        "outputId": "d25ed56a-9371-46c8-cdcc-441618ea38bf"
      },
      "execution_count": 47,
      "outputs": [
        {
          "output_type": "stream",
          "name": "stdout",
          "text": [
            "\n",
            "=== Most frequent value for each column ===\n",
            "Facebook_Id: most frequent = 32fc18da91029ff09bf74fe9887eace6b5d2145809d583f696e344530508b064 (count = 12052)\n",
            "post_id: most frequent = 6e654d37a2ceb7ce46fb6adbffd287dae995d28c54911589f301cc5718b22ebb (count = 2)\n",
            "Page Category: most frequent = PERSON (count = 15058)\n",
            "Page Admin Top Country: most frequent = US (count = 22882)\n",
            "Post Created: most frequent = 2023-12-22 11:22:14 EST (count = 4)\n",
            "Post Created Date: most frequent = 2024-01-10 (count = 204)\n",
            "Post Created Time: most frequent = 17:30:01 (count = 10)\n",
            "Type: most frequent = Link (count = 10585)\n",
            "Total Interactions: most frequent = 15 (count = 174)\n",
            "Likes: most frequent = 9 (count = 401)\n",
            "Comments: most frequent = 0 (count = 1230)\n",
            "Shares: most frequent = 0 (count = 2809)\n",
            "Love: most frequent = 0 (count = 7019)\n",
            "Wow: most frequent = 0 (count = 10301)\n",
            "Haha: most frequent = 0 (count = 6621)\n",
            "Sad: most frequent = 0 (count = 13458)\n",
            "Angry: most frequent = 0 (count = 9495)\n",
            "Care: most frequent = 0 (count = 11056)\n",
            "Video Share Status: most frequent = None (count = 19294)\n",
            "Is Video Owner?: most frequent = None (count = 19307)\n",
            "Post Views: most frequent = 0.0 (count = 18803)\n",
            "Total Views: most frequent = 0.0 (count = 18781)\n",
            "Total Views For All Crossposts: most frequent = 0.0 (count = 23268)\n",
            "Video Length: most frequent = None (count = 19294)\n",
            "Sponsor Id: most frequent = None (count = 23892)\n",
            "Sponsor Name: most frequent = None (count = 23892)\n",
            "Sponsor Category: most frequent = None (count = 23892)\n",
            "Overperforming Score: most frequent = None (count = 521)\n",
            "illuminating_scored_messageelection_integrity_Truth_illuminating: most frequent = None (count = 23891)\n",
            "advocacy_msg_type_illuminating: most frequent = 1 (count = 13063)\n",
            "issue_msg_type_illuminating: most frequent = 0 (count = 12981)\n",
            "attack_msg_type_illuminating: most frequent = 0 (count = 18731)\n",
            "image_msg_type_illuminating: most frequent = 0 (count = 20320)\n",
            "cta_msg_type_illuminating: most frequent = 0 (count = 20956)\n",
            "engagement_cta_subtype_illuminating: most frequent = 0 (count = 21769)\n",
            "fundraising_cta_subtype_illuminating: most frequent = 0 (count = 23510)\n",
            "voting_cta_subtype_illuminating: most frequent = 0 (count = 23442)\n",
            "covid_topic_illuminating: most frequent = 0 (count = 22681)\n",
            "economy_topic_illuminating: most frequent = 0 (count = 21823)\n",
            "education_topic_illuminating: most frequent = 0 (count = 23534)\n",
            "environment_topic_illuminating: most frequent = 0 (count = 23406)\n",
            "foreign_policy_topic_illuminating: most frequent = 0 (count = 23075)\n",
            "governance_topic_illuminating: most frequent = 0 (count = 23130)\n",
            "health_topic_illuminating: most frequent = 0 (count = 22750)\n",
            "immigration_topic_illuminating: most frequent = 0 (count = 22859)\n",
            "lgbtq_issues_topic_illuminating: most frequent = 0 (count = 23824)\n",
            "military_topic_illuminating: most frequent = 0 (count = 23762)\n",
            "race_and_ethnicity_topic_illuminating: most frequent = 0 (count = 23382)\n",
            "safety_topic_illuminating: most frequent = 0 (count = 23119)\n",
            "social_and_cultural_topic_illuminating: most frequent = 0 (count = 22420)\n",
            "technology_and_privacy_topic_illuminating: most frequent = 0 (count = 23845)\n",
            "womens_issue_topic_illuminating: most frequent = 0 (count = 23303)\n",
            "incivility_illuminating: most frequent = 0 (count = 20867)\n",
            "scam_illuminating: most frequent = 0.0 (count = 21525)\n",
            "freefair_illuminating: most frequent = 0 (count = 23818)\n",
            "fraud_illuminating: most frequent = 0 (count = 23669)\n"
          ]
        }
      ]
    },
    {
      "cell_type": "markdown",
      "source": [
        "Group by \"Facebook_Id\"  and compute same stats"
      ],
      "metadata": {
        "id": "BE0Q2chErs4k"
      }
    },
    {
      "cell_type": "code",
      "source": [
        "grouped = df.group_by(\"Facebook_Id\").agg([\n",
        "    *[pl.col(col).cast(pl.Float64, strict=False).mean().alias(f\"{col}_mean\") for col in numeric_cols],\n",
        "    *[pl.col(col).cast(pl.Float64, strict=False).min().alias(f\"{col}_min\") for col in numeric_cols],\n",
        "    *[pl.col(col).cast(pl.Float64, strict=False).max().alias(f\"{col}_max\") for col in numeric_cols],\n",
        "    *[pl.col(col).cast(pl.Float64, strict=False).std().alias(f\"{col}_std\") for col in numeric_cols],\n",
        "])\n",
        "\n",
        "print(grouped.head(10))"
      ],
      "metadata": {
        "colab": {
          "base_uri": "https://localhost:8080/"
        },
        "id": "Q4tDgn2XsPFi",
        "outputId": "3863ff29-4572-4570-afc8-8646313eddc6"
      },
      "execution_count": 51,
      "outputs": [
        {
          "output_type": "stream",
          "name": "stdout",
          "text": [
            "shape: (10, 173)\n",
            "┌───────────┬───────────┬───────────┬───────────┬───┬───────────┬───────────┬───────────┬──────────┐\n",
            "│ Facebook_ ┆ Total Int ┆ Likes_mea ┆ Comments_ ┆ … ┆ incivilit ┆ scam_illu ┆ freefair_ ┆ fraud_il │\n",
            "│ Id        ┆ eractions ┆ n         ┆ mean      ┆   ┆ y_illumin ┆ minating_ ┆ illuminat ┆ luminati │\n",
            "│ ---       ┆ _mean     ┆ ---       ┆ ---       ┆   ┆ ating_std ┆ std       ┆ ing_std   ┆ ng_std   │\n",
            "│ str       ┆ ---       ┆ f64       ┆ f64       ┆   ┆ ---       ┆ ---       ┆ ---       ┆ ---      │\n",
            "│           ┆ f64       ┆           ┆           ┆   ┆ f64       ┆ f64       ┆ f64       ┆ f64      │\n",
            "╞═══════════╪═══════════╪═══════════╪═══════════╪═══╪═══════════╪═══════════╪═══════════╪══════════╡\n",
            "│ a3fa0d15d ┆ 642.44094 ┆ 1607.3430 ┆ 333.97865 ┆ … ┆ 0.379185  ┆ 0.096972  ┆ 0.056165  ┆ 0.118482 │\n",
            "│ d83b91029 ┆ 5         ┆ 83        ┆ 6         ┆   ┆           ┆           ┆           ┆          │\n",
            "│ 5d0b17f9d ┆           ┆           ┆           ┆   ┆           ┆           ┆           ┆          │\n",
            "│ 341…      ┆           ┆           ┆           ┆   ┆           ┆           ┆           ┆          │\n",
            "│ b1daf9f29 ┆ 770.95431 ┆ 548.76008 ┆ 614.47133 ┆ … ┆ 0.388477  ┆ 0.046078  ┆ 0.0       ┆ 0.046078 │\n",
            "│ 09abed80b ┆ 5         ┆ 5         ┆ 8         ┆   ┆           ┆           ┆           ┆          │\n",
            "│ 7e02520df ┆           ┆           ┆           ┆   ┆           ┆           ┆           ┆          │\n",
            "│ d0b…      ┆           ┆           ┆           ┆   ┆           ┆           ┆           ┆          │\n",
            "│ a6cb7db68 ┆ 109.42307 ┆ 49.403846 ┆ 42.230769 ┆ … ┆ 0.269069  ┆ 0.0       ┆ 0.0       ┆ 0.0      │\n",
            "│ 50459b954 ┆ 7         ┆           ┆           ┆   ┆           ┆           ┆           ┆          │\n",
            "│ f7272e14d ┆           ┆           ┆           ┆   ┆           ┆           ┆           ┆          │\n",
            "│ 770…      ┆           ┆           ┆           ┆   ┆           ┆           ┆           ┆          │\n",
            "│ 459abece9 ┆ 88.318182 ┆ 43.909091 ┆ 24.636364 ┆ … ┆ 0.213201  ┆ 0.0       ┆ 0.0       ┆ 0.0      │\n",
            "│ 09c3b58ec ┆           ┆           ┆           ┆   ┆           ┆           ┆           ┆          │\n",
            "│ bea0ad3bf ┆           ┆           ┆           ┆   ┆           ┆           ┆           ┆          │\n",
            "│ 398…      ┆           ┆           ┆           ┆   ┆           ┆           ┆           ┆          │\n",
            "│ 32fc18da9 ┆ 131.15376 ┆ 156.61325 ┆ 37.724278 ┆ … ┆ 0.329079  ┆ 0.119852  ┆ 0.063638  ┆ 0.12457  │\n",
            "│ 1029ff09b ┆ 6         ┆ 9         ┆           ┆   ┆           ┆           ┆           ┆          │\n",
            "│ f74fe9887 ┆           ┆           ┆           ┆   ┆           ┆           ┆           ┆          │\n",
            "│ eac…      ┆           ┆           ┆           ┆   ┆           ┆           ┆           ┆          │\n",
            "│ 058bd8686 ┆ 105.07024 ┆ 57.533058 ┆ 26.805785 ┆ … ┆ 0.393179  ┆ 0.09072   ┆ 0.0       ┆ 0.0      │\n",
            "│ 1262fa717 ┆ 8         ┆           ┆           ┆   ┆           ┆           ┆           ┆          │\n",
            "│ 33f8515c3 ┆           ┆           ┆           ┆   ┆           ┆           ┆           ┆          │\n",
            "│ 4b7…      ┆           ┆           ┆           ┆   ┆           ┆           ┆           ┆          │\n",
            "│ 8e8dac0ee ┆ 643.29032 ┆ 4876.25   ┆ 960.56730 ┆ … ┆ 0.312108  ┆ 0.056614  ┆ 0.0       ┆ 0.0      │\n",
            "│ 6f22255b9 ┆ 3         ┆           ┆ 8         ┆   ┆           ┆           ┆           ┆          │\n",
            "│ d9365845a ┆           ┆           ┆           ┆   ┆           ┆           ┆           ┆          │\n",
            "│ 7fb…      ┆           ┆           ┆           ┆   ┆           ┆           ┆           ┆          │\n",
            "│ 834f691e4 ┆ 140.13513 ┆ 105.24324 ┆ 14.540541 ┆ … ┆ 0.164399  ┆ 0.229243  ┆ 0.0       ┆ 0.0      │\n",
            "│ ca1c67a7e ┆ 5         ┆ 3         ┆           ┆   ┆           ┆           ┆           ┆          │\n",
            "│ 33db1638c ┆           ┆           ┆           ┆   ┆           ┆           ┆           ┆          │\n",
            "│ aa5…      ┆           ┆           ┆           ┆   ┆           ┆           ┆           ┆          │\n",
            "│ fc098d51a ┆ 327.24691 ┆ 242.81749 ┆ 74.756654 ┆ … ┆ 0.346049  ┆ 0.149451  ┆ 0.0       ┆ 0.043602 │\n",
            "│ 4f57bc4bd ┆ 4         ┆           ┆           ┆   ┆           ┆           ┆           ┆          │\n",
            "│ 48a4e1c06 ┆           ┆           ┆           ┆   ┆           ┆           ┆           ┆          │\n",
            "│ 15c…      ┆           ┆           ┆           ┆   ┆           ┆           ┆           ┆          │\n",
            "│ be8f65731 ┆ 508.26712 ┆ 193.05670 ┆ 456.35051 ┆ … ┆ 0.416431  ┆ 0.0       ┆ 0.0       ┆ 0.0      │\n",
            "│ d2b8c2398 ┆ 3         ┆ 1         ┆ 5         ┆   ┆           ┆           ┆           ┆          │\n",
            "│ 09bdb13e9 ┆           ┆           ┆           ┆   ┆           ┆           ┆           ┆          │\n",
            "│ aba…      ┆           ┆           ┆           ┆   ┆           ┆           ┆           ┆          │\n",
            "└───────────┴───────────┴───────────┴───────────┴───┴───────────┴───────────┴───────────┴──────────┘\n"
          ]
        }
      ]
    },
    {
      "cell_type": "markdown",
      "source": [
        "Group by \"Facebook_Id\" and \"post_id\" and compute same stats"
      ],
      "metadata": {
        "id": "2wBHE6yZw4xw"
      }
    },
    {
      "cell_type": "code",
      "source": [
        "grouped = df.group_by([\"Facebook_Id\", \"post_id\"]).agg([\n",
        "    *[pl.col(col).cast(pl.Float64, strict=False).mean().alias(f\"{col}_mean\") for col in numeric_cols],\n",
        "    *[pl.col(col).cast(pl.Float64, strict=False).min().alias(f\"{col}_min\") for col in numeric_cols],\n",
        "    *[pl.col(col).cast(pl.Float64, strict=False).max().alias(f\"{col}_max\") for col in numeric_cols],\n",
        "    *[pl.col(col).cast(pl.Float64, strict=False).std().alias(f\"{col}_std\") for col in numeric_cols],\n",
        "])\n",
        "\n",
        "print(grouped.head(10))"
      ],
      "metadata": {
        "colab": {
          "base_uri": "https://localhost:8080/"
        },
        "id": "csT_xT8kxdDX",
        "outputId": "69ce10fa-6514-4f43-a08b-d6bf2687b7b0"
      },
      "execution_count": 53,
      "outputs": [
        {
          "output_type": "stream",
          "name": "stdout",
          "text": [
            "shape: (10, 174)\n",
            "┌───────────┬───────────┬───────────┬───────────┬───┬───────────┬───────────┬───────────┬──────────┐\n",
            "│ Facebook_ ┆ post_id   ┆ Total Int ┆ Likes_mea ┆ … ┆ incivilit ┆ scam_illu ┆ freefair_ ┆ fraud_il │\n",
            "│ Id        ┆ ---       ┆ eractions ┆ n         ┆   ┆ y_illumin ┆ minating_ ┆ illuminat ┆ luminati │\n",
            "│ ---       ┆ str       ┆ _mean     ┆ ---       ┆   ┆ ating_std ┆ std       ┆ ing_std   ┆ ng_std   │\n",
            "│ str       ┆           ┆ ---       ┆ f64       ┆   ┆ ---       ┆ ---       ┆ ---       ┆ ---      │\n",
            "│           ┆           ┆ f64       ┆           ┆   ┆ f64       ┆ f64       ┆ f64       ┆ f64      │\n",
            "╞═══════════╪═══════════╪═══════════╪═══════════╪═══╪═══════════╪═══════════╪═══════════╪══════════╡\n",
            "│ fedbfaab1 ┆ 9796c87b5 ┆ null      ┆ 10027.0   ┆ … ┆ null      ┆ null      ┆ null      ┆ null     │\n",
            "│ 9b5112a68 ┆ 9bc7c0e6f ┆           ┆           ┆   ┆           ┆           ┆           ┆          │\n",
            "│ 89b862314 ┆ 05900bbbb ┆           ┆           ┆   ┆           ┆           ┆           ┆          │\n",
            "│ ca9…      ┆ d0b…      ┆           ┆           ┆   ┆           ┆           ┆           ┆          │\n",
            "│ d6008f090 ┆ adade8ec1 ┆ null      ┆ 3765.0    ┆ … ┆ 0.0       ┆ 0.0       ┆ 0.0       ┆ 0.0      │\n",
            "│ fcb5df726 ┆ eb4fd869f ┆           ┆           ┆   ┆           ┆           ┆           ┆          │\n",
            "│ 3efe969d3 ┆ e5072a435 ┆           ┆           ┆   ┆           ┆           ┆           ┆          │\n",
            "│ fc2…      ┆ 217…      ┆           ┆           ┆   ┆           ┆           ┆           ┆          │\n",
            "│ 32fc18da9 ┆ 3aebfd502 ┆ 785.0     ┆ 193.0     ┆ … ┆ null      ┆ null      ┆ null      ┆ null     │\n",
            "│ 1029ff09b ┆ bc6a35e80 ┆           ┆           ┆   ┆           ┆           ┆           ┆          │\n",
            "│ f74fe9887 ┆ 2d0458245 ┆           ┆           ┆   ┆           ┆           ┆           ┆          │\n",
            "│ eac…      ┆ c2e…      ┆           ┆           ┆   ┆           ┆           ┆           ┆          │\n",
            "│ 32fc18da9 ┆ 6a56e891f ┆ 98.0      ┆ 84.0      ┆ … ┆ null      ┆ null      ┆ null      ┆ null     │\n",
            "│ 1029ff09b ┆ c66c48d08 ┆           ┆           ┆   ┆           ┆           ┆           ┆          │\n",
            "│ f74fe9887 ┆ ee6e93d99 ┆           ┆           ┆   ┆           ┆           ┆           ┆          │\n",
            "│ eac…      ┆ 162…      ┆           ┆           ┆   ┆           ┆           ┆           ┆          │\n",
            "│ 32fc18da9 ┆ 8b3bbc887 ┆ 41.0      ┆ 11.0      ┆ … ┆ 0.0       ┆ 0.0       ┆ 0.0       ┆ 0.0      │\n",
            "│ 1029ff09b ┆ 15cd62e2a ┆           ┆           ┆   ┆           ┆           ┆           ┆          │\n",
            "│ f74fe9887 ┆ 650235312 ┆           ┆           ┆   ┆           ┆           ┆           ┆          │\n",
            "│ eac…      ┆ 85e…      ┆           ┆           ┆   ┆           ┆           ┆           ┆          │\n",
            "│ b1daf9f29 ┆ 91e62bc8e ┆ 928.0     ┆ 205.0     ┆ … ┆ 0.0       ┆ 0.0       ┆ 0.0       ┆ 0.0      │\n",
            "│ 09abed80b ┆ b72fa53b3 ┆           ┆           ┆   ┆           ┆           ┆           ┆          │\n",
            "│ 7e02520df ┆ 0baa2c878 ┆           ┆           ┆   ┆           ┆           ┆           ┆          │\n",
            "│ d0b…      ┆ fe6…      ┆           ┆           ┆   ┆           ┆           ┆           ┆          │\n",
            "│ 32fc18da9 ┆ e7206fd57 ┆ 24.0      ┆ 22.0      ┆ … ┆ 0.0       ┆ 0.0       ┆ 0.0       ┆ 0.0      │\n",
            "│ 1029ff09b ┆ 3a7f1f4cf ┆           ┆           ┆   ┆           ┆           ┆           ┆          │\n",
            "│ f74fe9887 ┆ e43ae8567 ┆           ┆           ┆   ┆           ┆           ┆           ┆          │\n",
            "│ eac…      ┆ 129…      ┆           ┆           ┆   ┆           ┆           ┆           ┆          │\n",
            "│ 32fc18da9 ┆ 1ef01de26 ┆ 163.0     ┆ 120.0     ┆ … ┆ null      ┆ null      ┆ null      ┆ null     │\n",
            "│ 1029ff09b ┆ b6be97d6e ┆           ┆           ┆   ┆           ┆           ┆           ┆          │\n",
            "│ f74fe9887 ┆ ed527912b ┆           ┆           ┆   ┆           ┆           ┆           ┆          │\n",
            "│ eac…      ┆ 800…      ┆           ┆           ┆   ┆           ┆           ┆           ┆          │\n",
            "│ ac24f31c4 ┆ 682132fd2 ┆ 27316.0   ┆ 20890.0   ┆ … ┆ null      ┆ null      ┆ null      ┆ null     │\n",
            "│ d4b3d5555 ┆ a40c6e7c0 ┆           ┆           ┆   ┆           ┆           ┆           ┆          │\n",
            "│ 065fa9558 ┆ b2a88ac3d ┆           ┆           ┆   ┆           ┆           ┆           ┆          │\n",
            "│ bdc…      ┆ c30…      ┆           ┆           ┆   ┆           ┆           ┆           ┆          │\n",
            "│ 32fc18da9 ┆ be845314e ┆ 170.0     ┆ 49.0      ┆ … ┆ null      ┆ null      ┆ null      ┆ null     │\n",
            "│ 1029ff09b ┆ 203d8af12 ┆           ┆           ┆   ┆           ┆           ┆           ┆          │\n",
            "│ f74fe9887 ┆ 06c298f9f ┆           ┆           ┆   ┆           ┆           ┆           ┆          │\n",
            "│ eac…      ┆ b16…      ┆           ┆           ┆   ┆           ┆           ┆           ┆          │\n",
            "└───────────┴───────────┴───────────┴───────────┴───┴───────────┴───────────┴───────────┴──────────┘\n"
          ]
        }
      ]
    }
  ]
}