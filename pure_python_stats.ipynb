{
  "nbformat": 4,
  "nbformat_minor": 0,
  "metadata": {
    "colab": {
      "provenance": []
    },
    "kernelspec": {
      "name": "python3",
      "display_name": "Python 3"
    },
    "language_info": {
      "name": "python"
    }
  },
  "cells": [
    {
      "cell_type": "markdown",
      "source": [
        "**Import modules**"
      ],
      "metadata": {
        "id": "J243ifiUIMoo"
      }
    },
    {
      "cell_type": "code",
      "execution_count": 2,
      "metadata": {
        "id": "_7-xGz6_GiNW"
      },
      "outputs": [],
      "source": [
        "import csv\n",
        "import math\n",
        "from collections import defaultdict, Counter\n"
      ]
    },
    {
      "cell_type": "markdown",
      "source": [
        "**Load CSV data**"
      ],
      "metadata": {
        "id": "xelM6rvVIVnf"
      }
    },
    {
      "cell_type": "code",
      "source": [
        "def load_csv(filepath):\n",
        "  with open(\"/content/2024_fb_posts_president_scored_anon.csv\", newline='', encoding='utf-8') as csvfile:\n",
        "\n",
        "        reader = csv.DictReader(csvfile)\n",
        "        return [row for row in reader]"
      ],
      "metadata": {
        "id": "ZgmBtEAtGoO-"
      },
      "execution_count": 5,
      "outputs": []
    },
    {
      "cell_type": "code",
      "source": [
        "if __name__ == \"__main__\":\n",
        "    data = load_csv(\"/content/2024_fb_posts_president_scored_anon.csv\")\n",
        "    print(f\"Loaded {len(data)} rows\")\n",
        "    print(\"First row:\", data[0])"
      ],
      "metadata": {
        "colab": {
          "base_uri": "https://localhost:8080/"
        },
        "id": "NCyeb-iSKiio",
        "outputId": "11429296-4fdd-45c2-f2ed-bf76698413d8"
      },
      "execution_count": 14,
      "outputs": [
        {
          "output_type": "stream",
          "name": "stdout",
          "text": [
            "Loaded 19009 rows\n",
            "First row: {'Facebook_Id': 'a6cb7db6850459b954f7272e14d770617022639f8847cf25e6859b9453a03813', 'post_id': '8570b69695e00d8f06b12398ed525497e1712b5369c6fc2138fe98f69811c138', 'Page Category': 'PERSON', 'Page Admin Top Country': 'US', 'Post Created': '2023-09-04 19:31:16 EDT', 'Post Created Date': '2023-09-04', 'Post Created Time': '19:31:16', 'Type': 'Photo', 'Total Interactions': '261', 'Likes': '104', 'Comments': '121', 'Shares': '8', 'Love': '12', 'Wow': '0', 'Haha': '14', 'Sad': '0', 'Angry': '2', 'Care': '0', 'Video Share Status': '', 'Is Video Owner?': '-', 'Post Views': '0.0', 'Total Views': '0.0', 'Total Views For All Crossposts': '0.0', 'Video Length': '', 'Sponsor Id': '', 'Sponsor Name': '', 'Sponsor Category': '', 'Overperforming Score': '2.29', 'illuminating_scored_messageelection_integrity_Truth_illuminating': '', 'advocacy_msg_type_illuminating': '0', 'issue_msg_type_illuminating': '0', 'attack_msg_type_illuminating': '0', 'image_msg_type_illuminating': '0', 'cta_msg_type_illuminating': '0', 'engagement_cta_subtype_illuminating': '0', 'fundraising_cta_subtype_illuminating': '0', 'voting_cta_subtype_illuminating': '0', 'covid_topic_illuminating': '0', 'economy_topic_illuminating': '0', 'education_topic_illuminating': '0', 'environment_topic_illuminating': '0', 'foreign_policy_topic_illuminating': '0', 'governance_topic_illuminating': '0', 'health_topic_illuminating': '0', 'immigration_topic_illuminating': '0', 'lgbtq_issues_topic_illuminating': '0', 'military_topic_illuminating': '0', 'race_and_ethnicity_topic_illuminating': '0', 'safety_topic_illuminating': '0', 'social_and_cultural_topic_illuminating': '0', 'technology_and_privacy_topic_illuminating': '0', 'womens_issue_topic_illuminating': '0', 'incivility_illuminating': '0', 'scam_illuminating': '0.0', 'freefair_illuminating': '0', 'fraud_illuminating': '0'}\n"
          ]
        }
      ]
    },
    {
      "cell_type": "markdown",
      "source": [
        "**check if a string can be converted to float**"
      ],
      "metadata": {
        "id": "0lfXseQyJndA"
      }
    },
    {
      "cell_type": "code",
      "source": [
        "def is_number(value):\n",
        "    try:\n",
        "        float(value)\n",
        "        return True\n",
        "    except:\n",
        "        return False\n"
      ],
      "metadata": {
        "id": "JHxIQkRCItzE"
      },
      "execution_count": 15,
      "outputs": []
    },
    {
      "cell_type": "markdown",
      "source": [
        "**Compute descriptive statistics for each column\n",
        "Calculates:**\n",
        "\n",
        "count of values"
      ],
      "metadata": {
        "id": "d2V7gIFcJroo"
      }
    },
    {
      "cell_type": "code",
      "source": [
        "def count_values(rows):\n",
        "    columns = rows[0].keys()\n",
        "    counts = {}\n",
        "    for col in columns:\n",
        "        counts[col] = sum(1 for row in rows if row[col])\n",
        "    return counts\n",
        "\n",
        "if __name__ == \"__main__\":\n",
        "    data = load_csv(\"/content/2024_fb_posts_president_scored_anon.csv\")\n",
        "    counts = count_values(data)\n",
        "\n",
        "    print(\"=== Count of non-empty values by column ===\")\n",
        "    for col, cnt in counts.items():\n",
        "        print(f\"{col}: {cnt}\")\n"
      ],
      "metadata": {
        "colab": {
          "base_uri": "https://localhost:8080/"
        },
        "id": "VYXDrwqvJ0wD",
        "outputId": "7970a76e-4555-4b46-a639-7198c5b8015f"
      },
      "execution_count": 18,
      "outputs": [
        {
          "output_type": "stream",
          "name": "stdout",
          "text": [
            "=== Count of non-empty values by column ===\n",
            "Facebook_Id: 19009\n",
            "post_id: 19009\n",
            "Page Category: 16537\n",
            "Page Admin Top Country: 16280\n",
            "Post Created: 19009\n",
            "Post Created Date: 19009\n",
            "Post Created Time: 19009\n",
            "Type: 16544\n",
            "Total Interactions: 19009\n",
            "Likes: 19009\n",
            "Comments: 19009\n",
            "Shares: 19009\n",
            "Love: 19009\n",
            "Wow: 19009\n",
            "Haha: 19009\n",
            "Sad: 19009\n",
            "Angry: 19009\n",
            "Care: 19009\n",
            "Video Share Status: 3271\n",
            "Is Video Owner?: 16544\n",
            "Post Views: 16544\n",
            "Total Views: 16544\n",
            "Total Views For All Crossposts: 16544\n",
            "Video Length: 3271\n",
            "Sponsor Id: 0\n",
            "Sponsor Name: 0\n",
            "Sponsor Category: 0\n",
            "Overperforming Score: 16544\n",
            "illuminating_scored_messageelection_integrity_Truth_illuminating: 0\n",
            "advocacy_msg_type_illuminating: 19009\n",
            "issue_msg_type_illuminating: 19009\n",
            "attack_msg_type_illuminating: 19009\n",
            "image_msg_type_illuminating: 19009\n",
            "cta_msg_type_illuminating: 19009\n",
            "engagement_cta_subtype_illuminating: 19009\n",
            "fundraising_cta_subtype_illuminating: 19009\n",
            "voting_cta_subtype_illuminating: 19009\n",
            "covid_topic_illuminating: 19009\n",
            "economy_topic_illuminating: 19009\n",
            "education_topic_illuminating: 19009\n",
            "environment_topic_illuminating: 19009\n",
            "foreign_policy_topic_illuminating: 19009\n",
            "governance_topic_illuminating: 19009\n",
            "health_topic_illuminating: 19009\n",
            "immigration_topic_illuminating: 19009\n",
            "lgbtq_issues_topic_illuminating: 19009\n",
            "military_topic_illuminating: 19009\n",
            "race_and_ethnicity_topic_illuminating: 19009\n",
            "safety_topic_illuminating: 19009\n",
            "social_and_cultural_topic_illuminating: 19009\n",
            "technology_and_privacy_topic_illuminating: 19009\n",
            "womens_issue_topic_illuminating: 19009\n",
            "incivility_illuminating: 19009\n",
            "scam_illuminating: 18060\n",
            "freefair_illuminating: 19009\n",
            "fraud_illuminating: 19009\n"
          ]
        }
      ]
    },
    {
      "cell_type": "markdown",
      "source": [
        "**Mean (for numeric fields)**"
      ],
      "metadata": {
        "id": "lII9LzNkJ4ya"
      }
    },
    {
      "cell_type": "code",
      "source": [
        "def compute_means(rows):\n",
        "    columns = rows[0].keys()\n",
        "    means = {}\n",
        "    for col in columns:\n",
        "        num_values = [float(row[col]) for row in rows if row[col] and is_number(row[col])]\n",
        "        if num_values:\n",
        "            means[col] = sum(num_values) / len(num_values)\n",
        "    return means"
      ],
      "metadata": {
        "id": "VVBCDzujJ8bc"
      },
      "execution_count": 22,
      "outputs": []
    },
    {
      "cell_type": "code",
      "source": [
        "means = compute_means(data)\n",
        "\n",
        "# Now print\n",
        "print(\"=== Mean of numeric columns ===\")\n",
        "for col, mean_val in means.items():\n",
        "    print(f\"{col}: {mean_val}\")\n"
      ],
      "metadata": {
        "colab": {
          "base_uri": "https://localhost:8080/"
        },
        "id": "f9Oq-KTVM2aw",
        "outputId": "af0a9c41-0da8-4eed-c7e9-495820cdad4a"
      },
      "execution_count": 25,
      "outputs": [
        {
          "output_type": "stream",
          "name": "stdout",
          "text": [
            "=== Mean of numeric columns ===\n",
            "Total Interactions: 2210.154813168496\n",
            "Likes: 2377.6954074385817\n",
            "Comments: 901.583197432795\n",
            "Shares: 320.53895523173236\n",
            "Love: 413.87732126887266\n",
            "Wow: 5.8683255300120996\n",
            "Haha: 105.71971171550318\n",
            "Sad: 10.172181598190331\n",
            "Angry: 20.05550002630333\n",
            "Care: 34.92903361565574\n",
            "Post Views: 6485.058510638298\n",
            "Total Views: 7461.847014023211\n",
            "Total Views For All Crossposts: 3555.9379835589943\n",
            "Overperforming Score: -2.7441604206963373\n",
            "advocacy_msg_type_illuminating: 0.549266137092956\n",
            "issue_msg_type_illuminating: 0.4603082750276185\n",
            "attack_msg_type_illuminating: 0.2166868325530012\n",
            "image_msg_type_illuminating: 0.14856120784891366\n",
            "cta_msg_type_illuminating: 0.1328318165079699\n",
            "engagement_cta_subtype_illuminating: 0.0908517018254511\n",
            "fundraising_cta_subtype_illuminating: 0.01841233100110474\n",
            "voting_cta_subtype_illuminating: 0.023409963701404597\n",
            "covid_topic_illuminating: 0.05239623336314377\n",
            "economy_topic_illuminating: 0.09037824188542269\n",
            "education_topic_illuminating: 0.014992898100899574\n",
            "environment_topic_illuminating: 0.022252617181335158\n",
            "foreign_policy_topic_illuminating: 0.03687726866221264\n",
            "governance_topic_illuminating: 0.03109053606186543\n",
            "health_topic_illuminating: 0.04866116050291967\n",
            "immigration_topic_illuminating: 0.04082276816244937\n",
            "lgbtq_issues_topic_illuminating: 0.0033668262402020096\n",
            "military_topic_illuminating: 0.0055763059603345785\n",
            "race_and_ethnicity_topic_illuminating: 0.021568730601294123\n",
            "safety_topic_illuminating: 0.032195275921931714\n",
            "social_and_cultural_topic_illuminating: 0.06170761218370246\n",
            "technology_and_privacy_topic_illuminating: 0.0020516597401230995\n",
            "womens_issue_topic_illuminating: 0.0254616234415277\n",
            "incivility_illuminating: 0.1278867904676732\n",
            "scam_illuminating: 0.020210409745293468\n",
            "freefair_illuminating: 0.0028407596401704457\n",
            "fraud_illuminating: 0.00862749224051765\n"
          ]
        }
      ]
    },
    {
      "cell_type": "markdown",
      "source": [
        "**Minimum and maximum values**"
      ],
      "metadata": {
        "id": "gU76rcnqNGYe"
      }
    },
    {
      "cell_type": "code",
      "source": [
        "def compute_min_max(rows):\n",
        "    columns = rows[0].keys()\n",
        "    min_max = {}\n",
        "    for col in columns:\n",
        "        num_values = [float(row[col]) for row in rows if row[col] and is_number(row[col])]\n",
        "        if num_values:\n",
        "            min_max[col] = {\n",
        "                \"min\": min(num_values),\n",
        "                \"max\": max(num_values)\n",
        "            }\n",
        "    return min_max\n"
      ],
      "metadata": {
        "id": "7G35n7_oNKtC"
      },
      "execution_count": 28,
      "outputs": []
    },
    {
      "cell_type": "code",
      "source": [
        "min_max = compute_min_max(data)\n",
        "print(\"=== Min and Max of numeric columns ===\")\n",
        "for col, vals in min_max.items():\n",
        "  print(f\"{col}: min = {vals['min']}, max = {vals['max']}\")"
      ],
      "metadata": {
        "colab": {
          "base_uri": "https://localhost:8080/"
        },
        "id": "LJiqlFjgNTjb",
        "outputId": "2d22937a-eb78-4f73-f115-536e6980dafd"
      },
      "execution_count": 29,
      "outputs": [
        {
          "output_type": "stream",
          "name": "stdout",
          "text": [
            "=== Min and Max of numeric columns ===\n",
            "Total Interactions: min = 0.0, max = 470087.0\n",
            "Likes: min = 0.0, max = 351979.0\n",
            "Comments: min = 0.0, max = 93872.0\n",
            "Shares: min = 0.0, max = 76150.0\n",
            "Love: min = 0.0, max = 244482.0\n",
            "Wow: min = 0.0, max = 4345.0\n",
            "Haha: min = 0.0, max = 99276.0\n",
            "Sad: min = 0.0, max = 56111.0\n",
            "Angry: min = 0.0, max = 11814.0\n",
            "Care: min = 0.0, max = 85236.0\n",
            "Post Views: min = 0.0, max = 4276477.0\n",
            "Total Views: min = 0.0, max = 4462155.0\n",
            "Total Views For All Crossposts: min = 0.0, max = 4499458.0\n",
            "Overperforming Score: min = -198.75, max = 246.78\n",
            "advocacy_msg_type_illuminating: min = 0.0, max = 1.0\n",
            "issue_msg_type_illuminating: min = 0.0, max = 1.0\n",
            "attack_msg_type_illuminating: min = 0.0, max = 1.0\n",
            "image_msg_type_illuminating: min = 0.0, max = 1.0\n",
            "cta_msg_type_illuminating: min = 0.0, max = 1.0\n",
            "engagement_cta_subtype_illuminating: min = 0.0, max = 1.0\n",
            "fundraising_cta_subtype_illuminating: min = 0.0, max = 1.0\n",
            "voting_cta_subtype_illuminating: min = 0.0, max = 1.0\n",
            "covid_topic_illuminating: min = 0.0, max = 1.0\n",
            "economy_topic_illuminating: min = 0.0, max = 1.0\n",
            "education_topic_illuminating: min = 0.0, max = 1.0\n",
            "environment_topic_illuminating: min = 0.0, max = 1.0\n",
            "foreign_policy_topic_illuminating: min = 0.0, max = 1.0\n",
            "governance_topic_illuminating: min = 0.0, max = 1.0\n",
            "health_topic_illuminating: min = 0.0, max = 1.0\n",
            "immigration_topic_illuminating: min = 0.0, max = 1.0\n",
            "lgbtq_issues_topic_illuminating: min = 0.0, max = 1.0\n",
            "military_topic_illuminating: min = 0.0, max = 1.0\n",
            "race_and_ethnicity_topic_illuminating: min = 0.0, max = 1.0\n",
            "safety_topic_illuminating: min = 0.0, max = 1.0\n",
            "social_and_cultural_topic_illuminating: min = 0.0, max = 1.0\n",
            "technology_and_privacy_topic_illuminating: min = 0.0, max = 1.0\n",
            "womens_issue_topic_illuminating: min = 0.0, max = 1.0\n",
            "incivility_illuminating: min = 0.0, max = 1.0\n",
            "scam_illuminating: min = 0.0, max = 1.0\n",
            "freefair_illuminating: min = 0.0, max = 1.0\n",
            "fraud_illuminating: min = 0.0, max = 1.0\n"
          ]
        }
      ]
    },
    {
      "cell_type": "markdown",
      "source": [
        "**Standard deviation (optional if using only math module)**"
      ],
      "metadata": {
        "id": "Wzy4NlHaNuyI"
      }
    },
    {
      "cell_type": "code",
      "source": [
        "def compute_std(rows):\n",
        "    columns = rows[0].keys()\n",
        "    stds = {}\n",
        "    for col in columns:\n",
        "        num_values = [float(row[col]) for row in rows if row[col] and is_number(row[col])]\n",
        "        if num_values:\n",
        "            mean = sum(num_values) / len(num_values)\n",
        "            variance = sum((x - mean) ** 2 for x in num_values) / len(num_values)\n",
        "            std_dev = math.sqrt(variance)\n",
        "            stds[col] = std_dev\n",
        "    return stds"
      ],
      "metadata": {
        "id": "csTsXiYtNvSZ"
      },
      "execution_count": 30,
      "outputs": []
    },
    {
      "cell_type": "code",
      "source": [
        "stds = compute_std(data)\n",
        "\n",
        "print(\"=== Standard Deviation of numeric columns ===\")\n",
        "for col, std_val in stds.items():\n",
        "  print(f\"{col}: {std_val}\")"
      ],
      "metadata": {
        "colab": {
          "base_uri": "https://localhost:8080/"
        },
        "id": "gUK2n7G_N26_",
        "outputId": "a48ae0ab-7bc1-4301-9773-7d730904e5c4"
      },
      "execution_count": 31,
      "outputs": [
        {
          "output_type": "stream",
          "name": "stdout",
          "text": [
            "=== Standard Deviation of numeric columns ===\n",
            "Total Interactions: 13066.16858384993\n",
            "Likes: 11253.173660942826\n",
            "Comments: 3681.88324663012\n",
            "Shares: 1722.114579655431\n",
            "Love: 3730.8423123351736\n",
            "Wow: 52.94558592166891\n",
            "Haha: 942.0094692245306\n",
            "Sad: 418.3140035654345\n",
            "Angry: 156.0159849366593\n",
            "Care: 790.0824307109294\n",
            "Post Views: 90390.2265080491\n",
            "Total Views: 95973.37816684529\n",
            "Total Views For All Crossposts: 88091.3858618148\n",
            "Overperforming Score: 7.808240961856569\n",
            "advocacy_msg_type_illuminating: 0.4975669278960663\n",
            "issue_msg_type_illuminating: 0.498422077128119\n",
            "attack_msg_type_illuminating: 0.41198743809875554\n",
            "image_msg_type_illuminating: 0.3556554166202938\n",
            "cta_msg_type_illuminating: 0.3393928771072356\n",
            "engagement_cta_subtype_illuminating: 0.2873981038575075\n",
            "fundraising_cta_subtype_illuminating: 0.1344370375611009\n",
            "voting_cta_subtype_illuminating: 0.15120164450463816\n",
            "covid_topic_illuminating: 0.2228247474867119\n",
            "economy_topic_illuminating: 0.28672288935333456\n",
            "education_topic_illuminating: 0.1215241173900813\n",
            "environment_topic_illuminating: 0.14750402777519722\n",
            "foreign_policy_topic_illuminating: 0.1884604354187676\n",
            "governance_topic_illuminating: 0.1735624228606407\n",
            "health_topic_illuminating: 0.21515866694470906\n",
            "immigration_topic_illuminating: 0.19787943238754\n",
            "lgbtq_issues_topic_illuminating: 0.057926597701494234\n",
            "military_topic_illuminating: 0.07446617199890898\n",
            "race_and_ethnicity_topic_illuminating: 0.14527050788629303\n",
            "safety_topic_illuminating: 0.1765183846805988\n",
            "social_and_cultural_topic_illuminating: 0.2406237369469409\n",
            "technology_and_privacy_topic_illuminating: 0.04524876166741346\n",
            "womens_issue_topic_illuminating: 0.15752247196272268\n",
            "incivility_illuminating: 0.33396370954273136\n",
            "scam_illuminating: 0.14071939838991823\n",
            "freefair_illuminating: 0.05322301874974824\n",
            "fraud_illuminating: 0.09248274767845381\n"
          ]
        }
      ]
    },
    {
      "cell_type": "markdown",
      "source": [
        "**For non-numeric fields: unique value counts and most frequent values**"
      ],
      "metadata": {
        "id": "-HawPNmMN6-L"
      }
    },
    {
      "cell_type": "code",
      "source": [
        "from collections import Counter\n",
        "\n",
        "def compute_non_numeric_stats(rows):\n",
        "    columns = rows[0].keys()\n",
        "    non_num_stats = {}\n",
        "    for col in columns:\n",
        "        # get all non-empty values\n",
        "        values = [row[col] for row in rows if row[col]]\n",
        "        # skip entirely empty columns\n",
        "        if not values:\n",
        "            continue\n",
        "        # check if this is actually numeric; if yes, skip\n",
        "        if all(is_number(v) for v in values):\n",
        "            continue\n",
        "        unique_count = len(set(values))\n",
        "        most_common = Counter(values).most_common(1)[0]  # (value, count)\n",
        "        non_num_stats[col] = {\n",
        "            \"unique_count\": unique_count,\n",
        "            \"most_common\": most_common\n",
        "        }\n",
        "    return non_num_stats"
      ],
      "metadata": {
        "id": "UxTNgJFAOFFE"
      },
      "execution_count": 32,
      "outputs": []
    },
    {
      "cell_type": "code",
      "source": [
        "non_num_stats = compute_non_numeric_stats(data)\n",
        "\n",
        "print(\"=== Non-numeric columns: unique counts and most frequent values ===\")\n",
        "for col, stats in non_num_stats.items():\n",
        "  print(f\"{col}: unique = {stats['unique_count']}, most frequent = {stats['most_common'][0]} (count = {stats['most_common'][1]})\")"
      ],
      "metadata": {
        "colab": {
          "base_uri": "https://localhost:8080/"
        },
        "id": "QLb-F1BjOPgA",
        "outputId": "399b5c87-cdb1-455c-ce1d-9e0a5eab6d08"
      },
      "execution_count": 33,
      "outputs": [
        {
          "output_type": "stream",
          "name": "stdout",
          "text": [
            "=== Non-numeric columns: unique counts and most frequent values ===\n",
            "Facebook_Id: unique = 21, most frequent = 32fc18da91029ff09bf74fe9887eace6b5d2145809d583f696e344530508b064 (count = 9013)\n",
            "post_id: unique = 19009, most frequent = 8570b69695e00d8f06b12398ed525497e1712b5369c6fc2138fe98f69811c138 (count = 1)\n",
            "Page Category: unique = 6, most frequent = PERSON (count = 9453)\n",
            "Page Admin Top Country: unique = 1, most frequent = US (count = 16280)\n",
            "Post Created: unique = 18951, most frequent = 2023-11-14 11:11:44 EST (count = 2)\n",
            "Post Created Date: unique = 425, most frequent = 2024-10-31 (count = 103)\n",
            "Post Created Time: unique = 16102, most frequent = 19:42:00 (count = 7)\n",
            "Type: unique = 9, most frequent = Link (count = 7404)\n",
            "Total Interactions: unique = 5665, most frequent = 23 (count = 115)\n",
            "Video Share Status: unique = 3, most frequent = owned (count = 3100)\n",
            "Is Video Owner?: unique = 3, most frequent = - (count = 13280)\n",
            "Video Length: unique = 774, most frequent = 00:00:30 (count = 83)\n"
          ]
        }
      ]
    },
    {
      "cell_type": "markdown",
      "source": [
        "**Perform the same analysis as above after aggregation by (“page_id”) and again after aggregation by (“page_id”, “ad_id”) or other grouping columns in the even you are working with other datasets. For example, if your dataset includes a column for “state” that might be a candidate for grouping by.**"
      ],
      "metadata": {
        "id": "ljiKO3hPOiqU"
      }
    },
    {
      "cell_type": "code",
      "source": [
        "grouped_data = group_by(data, [\"Facebook_Id\"])\n",
        "\n",
        "for key, rows_in_group in grouped_data.items():\n",
        "  means = compute_means(rows_in_group)\n",
        "  min_max = compute_min_max(rows_in_group)\n",
        "  stds = compute_std(rows_in_group)\n",
        "  non_num_stats = compute_non_numeric_stats(rows_in_group)\n",
        "\n",
        "print(f\"\\n=== Stats for group {key} ===\")\n",
        "print(\"Means:\", means)\n",
        "print(\"Min/Max:\", min_max)\n",
        "print(\"Std Dev:\", stds)\n",
        "print(\"Non-numeric:\", non_num_stats)"
      ],
      "metadata": {
        "colab": {
          "base_uri": "https://localhost:8080/"
        },
        "id": "EPlyH_cuoXAB",
        "outputId": "c00d4cb9-24fd-4ed6-d631-747e5fd03aeb"
      },
      "execution_count": 37,
      "outputs": [
        {
          "output_type": "stream",
          "name": "stdout",
          "text": [
            "\n",
            "=== Stats for group ('4bd0a74df1b4df50157a304ace4291c947560a05da059ea6c8935cc11de7014d',) ===\n",
            "Means: {'Total Interactions': 3139.1632653061224, 'Likes': 2323.8979591836733, 'Comments': 731.7551020408164, 'Shares': 83.51020408163265, 'Love': 0.0, 'Wow': 0.0, 'Haha': 0.0, 'Sad': 0.0, 'Angry': 0.0, 'Care': 0.0, 'advocacy_msg_type_illuminating': 0.5816326530612245, 'issue_msg_type_illuminating': 0.5102040816326531, 'attack_msg_type_illuminating': 0.0, 'image_msg_type_illuminating': 0.030612244897959183, 'cta_msg_type_illuminating': 0.030612244897959183, 'engagement_cta_subtype_illuminating': 0.0, 'fundraising_cta_subtype_illuminating': 0.0, 'voting_cta_subtype_illuminating': 0.01020408163265306, 'covid_topic_illuminating': 0.0, 'economy_topic_illuminating': 0.3877551020408163, 'education_topic_illuminating': 0.10204081632653061, 'environment_topic_illuminating': 0.08163265306122448, 'foreign_policy_topic_illuminating': 0.0, 'governance_topic_illuminating': 0.0, 'health_topic_illuminating': 0.08163265306122448, 'immigration_topic_illuminating': 0.0, 'lgbtq_issues_topic_illuminating': 0.0, 'military_topic_illuminating': 0.01020408163265306, 'race_and_ethnicity_topic_illuminating': 0.02040816326530612, 'safety_topic_illuminating': 0.01020408163265306, 'social_and_cultural_topic_illuminating': 0.030612244897959183, 'technology_and_privacy_topic_illuminating': 0.04081632653061224, 'womens_issue_topic_illuminating': 0.0, 'incivility_illuminating': 0.0, 'scam_illuminating': 0.02040816326530612, 'freefair_illuminating': 0.01020408163265306, 'fraud_illuminating': 0.0}\n",
            "Min/Max: {'Total Interactions': {'min': 314.0, 'max': 14083.0}, 'Likes': {'min': 165.0, 'max': 10825.0}, 'Comments': {'min': 104.0, 'max': 3874.0}, 'Shares': {'min': 4.0, 'max': 1277.0}, 'Love': {'min': 0.0, 'max': 0.0}, 'Wow': {'min': 0.0, 'max': 0.0}, 'Haha': {'min': 0.0, 'max': 0.0}, 'Sad': {'min': 0.0, 'max': 0.0}, 'Angry': {'min': 0.0, 'max': 0.0}, 'Care': {'min': 0.0, 'max': 0.0}, 'advocacy_msg_type_illuminating': {'min': 0.0, 'max': 1.0}, 'issue_msg_type_illuminating': {'min': 0.0, 'max': 1.0}, 'attack_msg_type_illuminating': {'min': 0.0, 'max': 0.0}, 'image_msg_type_illuminating': {'min': 0.0, 'max': 1.0}, 'cta_msg_type_illuminating': {'min': 0.0, 'max': 1.0}, 'engagement_cta_subtype_illuminating': {'min': 0.0, 'max': 0.0}, 'fundraising_cta_subtype_illuminating': {'min': 0.0, 'max': 0.0}, 'voting_cta_subtype_illuminating': {'min': 0.0, 'max': 1.0}, 'covid_topic_illuminating': {'min': 0.0, 'max': 0.0}, 'economy_topic_illuminating': {'min': 0.0, 'max': 1.0}, 'education_topic_illuminating': {'min': 0.0, 'max': 1.0}, 'environment_topic_illuminating': {'min': 0.0, 'max': 1.0}, 'foreign_policy_topic_illuminating': {'min': 0.0, 'max': 0.0}, 'governance_topic_illuminating': {'min': 0.0, 'max': 0.0}, 'health_topic_illuminating': {'min': 0.0, 'max': 1.0}, 'immigration_topic_illuminating': {'min': 0.0, 'max': 0.0}, 'lgbtq_issues_topic_illuminating': {'min': 0.0, 'max': 0.0}, 'military_topic_illuminating': {'min': 0.0, 'max': 1.0}, 'race_and_ethnicity_topic_illuminating': {'min': 0.0, 'max': 1.0}, 'safety_topic_illuminating': {'min': 0.0, 'max': 1.0}, 'social_and_cultural_topic_illuminating': {'min': 0.0, 'max': 1.0}, 'technology_and_privacy_topic_illuminating': {'min': 0.0, 'max': 1.0}, 'womens_issue_topic_illuminating': {'min': 0.0, 'max': 0.0}, 'incivility_illuminating': {'min': 0.0, 'max': 0.0}, 'scam_illuminating': {'min': 0.0, 'max': 1.0}, 'freefair_illuminating': {'min': 0.0, 'max': 1.0}, 'fraud_illuminating': {'min': 0.0, 'max': 0.0}}\n",
            "Std Dev: {'Total Interactions': 2654.5121950657153, 'Likes': 2016.380767055403, 'Comments': 660.6784092379232, 'Shares': 136.55478416939545, 'Love': 0.0, 'Wow': 0.0, 'Haha': 0.0, 'Sad': 0.0, 'Angry': 0.0, 'Care': 0.0, 'advocacy_msg_type_illuminating': 0.49329110062333953, 'issue_msg_type_illuminating': 0.49989586587411794, 'attack_msg_type_illuminating': 0.0, 'image_msg_type_illuminating': 0.17226472465443, 'cta_msg_type_illuminating': 0.17226472465443, 'engagement_cta_subtype_illuminating': 0.0, 'fundraising_cta_subtype_illuminating': 0.0, 'voting_cta_subtype_illuminating': 0.10049854899791945, 'covid_topic_illuminating': 0.0, 'economy_topic_illuminating': 0.48723821984952315, 'education_topic_illuminating': 0.3027019790651295, 'environment_topic_illuminating': 0.2738042421428316, 'foreign_policy_topic_illuminating': 0.0, 'governance_topic_illuminating': 0.0, 'health_topic_illuminating': 0.2738042421428314, 'immigration_topic_illuminating': 0.0, 'lgbtq_issues_topic_illuminating': 0.0, 'military_topic_illuminating': 0.10049854899791943, 'race_and_ethnicity_topic_illuminating': 0.14139190265868387, 'safety_topic_illuminating': 0.10049854899791945, 'social_and_cultural_topic_illuminating': 0.17226472465443, 'technology_and_privacy_topic_illuminating': 0.19786448397617676, 'womens_issue_topic_illuminating': 0.0, 'incivility_illuminating': 0.0, 'scam_illuminating': 0.14139190265868387, 'freefair_illuminating': 0.10049854899791945, 'fraud_illuminating': 0.0}\n",
            "Non-numeric: {'Facebook_Id': {'unique_count': 1, 'most_common': ('4bd0a74df1b4df50157a304ace4291c947560a05da059ea6c8935cc11de7014d', 98)}, 'post_id': {'unique_count': 98, 'most_common': ('31d669667fb51a0c7f392bf085a2a8fb3ad1e2e62d992ced0fd35ec9e5590f2a', 1)}, 'Post Created': {'unique_count': 94, 'most_common': ('2024-10-31T18:49:57.000Z', 2)}, 'Post Created Date': {'unique_count': 62, 'most_common': ('2024-10-31', 6)}, 'Post Created Time': {'unique_count': 94, 'most_common': ('18:49:57', 2)}}\n"
          ]
        }
      ]
    },
    {
      "cell_type": "code",
      "source": [
        "grouped_data = group_by(data, [\"Facebook_Id\", \"post_id\"])\n",
        "\n",
        "for key, rows_in_group in grouped_data.items():\n",
        "  means = compute_means(rows_in_group)\n",
        "  min_max = compute_min_max(rows_in_group)\n",
        "  stds = compute_std(rows_in_group)\n",
        "  non_num_stats = compute_non_numeric_stats(rows_in_group)\n",
        "\n",
        "print(f\"\\n=== Stats for group {key} ===\")\n",
        "print(\"Means:\", means)\n",
        "print(\"Min/Max:\", min_max)\n",
        "print(\"Std Dev:\", stds)\n",
        "print(\"Non-numeric:\", non_num_stats)"
      ],
      "metadata": {
        "colab": {
          "base_uri": "https://localhost:8080/"
        },
        "id": "akFpESxcOjAC",
        "outputId": "4d7384a7-65da-40c4-ada9-32934d159b71"
      },
      "execution_count": 36,
      "outputs": [
        {
          "output_type": "stream",
          "name": "stdout",
          "text": [
            "\n",
            "=== Stats for group ('bfe51c6ac2cab17ba5c85883e76f61398031ed57e4cf62d19fd483548ebb904b', '202cc020266f6ac23ec611b9f981df3748bd4a4abdf262a1f56e7abbc48c1dea') ===\n",
            "Means: {'Total Interactions': 563.0, 'Likes': 366.0, 'Comments': 174.0, 'Shares': 23.0, 'Love': 0.0, 'Wow': 0.0, 'Haha': 0.0, 'Sad': 0.0, 'Angry': 0.0, 'Care': 0.0, 'advocacy_msg_type_illuminating': 1.0, 'issue_msg_type_illuminating': 0.0, 'attack_msg_type_illuminating': 0.0, 'image_msg_type_illuminating': 0.0, 'cta_msg_type_illuminating': 0.0, 'engagement_cta_subtype_illuminating': 0.0, 'fundraising_cta_subtype_illuminating': 0.0, 'voting_cta_subtype_illuminating': 0.0, 'covid_topic_illuminating': 0.0, 'economy_topic_illuminating': 0.0, 'education_topic_illuminating': 0.0, 'environment_topic_illuminating': 0.0, 'foreign_policy_topic_illuminating': 0.0, 'governance_topic_illuminating': 0.0, 'health_topic_illuminating': 0.0, 'immigration_topic_illuminating': 0.0, 'lgbtq_issues_topic_illuminating': 0.0, 'military_topic_illuminating': 0.0, 'race_and_ethnicity_topic_illuminating': 0.0, 'safety_topic_illuminating': 0.0, 'social_and_cultural_topic_illuminating': 0.0, 'technology_and_privacy_topic_illuminating': 0.0, 'womens_issue_topic_illuminating': 0.0, 'incivility_illuminating': 0.0, 'scam_illuminating': 0.0, 'freefair_illuminating': 0.0, 'fraud_illuminating': 0.0}\n",
            "Min/Max: {'Total Interactions': {'min': 563.0, 'max': 563.0}, 'Likes': {'min': 366.0, 'max': 366.0}, 'Comments': {'min': 174.0, 'max': 174.0}, 'Shares': {'min': 23.0, 'max': 23.0}, 'Love': {'min': 0.0, 'max': 0.0}, 'Wow': {'min': 0.0, 'max': 0.0}, 'Haha': {'min': 0.0, 'max': 0.0}, 'Sad': {'min': 0.0, 'max': 0.0}, 'Angry': {'min': 0.0, 'max': 0.0}, 'Care': {'min': 0.0, 'max': 0.0}, 'advocacy_msg_type_illuminating': {'min': 1.0, 'max': 1.0}, 'issue_msg_type_illuminating': {'min': 0.0, 'max': 0.0}, 'attack_msg_type_illuminating': {'min': 0.0, 'max': 0.0}, 'image_msg_type_illuminating': {'min': 0.0, 'max': 0.0}, 'cta_msg_type_illuminating': {'min': 0.0, 'max': 0.0}, 'engagement_cta_subtype_illuminating': {'min': 0.0, 'max': 0.0}, 'fundraising_cta_subtype_illuminating': {'min': 0.0, 'max': 0.0}, 'voting_cta_subtype_illuminating': {'min': 0.0, 'max': 0.0}, 'covid_topic_illuminating': {'min': 0.0, 'max': 0.0}, 'economy_topic_illuminating': {'min': 0.0, 'max': 0.0}, 'education_topic_illuminating': {'min': 0.0, 'max': 0.0}, 'environment_topic_illuminating': {'min': 0.0, 'max': 0.0}, 'foreign_policy_topic_illuminating': {'min': 0.0, 'max': 0.0}, 'governance_topic_illuminating': {'min': 0.0, 'max': 0.0}, 'health_topic_illuminating': {'min': 0.0, 'max': 0.0}, 'immigration_topic_illuminating': {'min': 0.0, 'max': 0.0}, 'lgbtq_issues_topic_illuminating': {'min': 0.0, 'max': 0.0}, 'military_topic_illuminating': {'min': 0.0, 'max': 0.0}, 'race_and_ethnicity_topic_illuminating': {'min': 0.0, 'max': 0.0}, 'safety_topic_illuminating': {'min': 0.0, 'max': 0.0}, 'social_and_cultural_topic_illuminating': {'min': 0.0, 'max': 0.0}, 'technology_and_privacy_topic_illuminating': {'min': 0.0, 'max': 0.0}, 'womens_issue_topic_illuminating': {'min': 0.0, 'max': 0.0}, 'incivility_illuminating': {'min': 0.0, 'max': 0.0}, 'scam_illuminating': {'min': 0.0, 'max': 0.0}, 'freefair_illuminating': {'min': 0.0, 'max': 0.0}, 'fraud_illuminating': {'min': 0.0, 'max': 0.0}}\n",
            "Std Dev: {'Total Interactions': 0.0, 'Likes': 0.0, 'Comments': 0.0, 'Shares': 0.0, 'Love': 0.0, 'Wow': 0.0, 'Haha': 0.0, 'Sad': 0.0, 'Angry': 0.0, 'Care': 0.0, 'advocacy_msg_type_illuminating': 0.0, 'issue_msg_type_illuminating': 0.0, 'attack_msg_type_illuminating': 0.0, 'image_msg_type_illuminating': 0.0, 'cta_msg_type_illuminating': 0.0, 'engagement_cta_subtype_illuminating': 0.0, 'fundraising_cta_subtype_illuminating': 0.0, 'voting_cta_subtype_illuminating': 0.0, 'covid_topic_illuminating': 0.0, 'economy_topic_illuminating': 0.0, 'education_topic_illuminating': 0.0, 'environment_topic_illuminating': 0.0, 'foreign_policy_topic_illuminating': 0.0, 'governance_topic_illuminating': 0.0, 'health_topic_illuminating': 0.0, 'immigration_topic_illuminating': 0.0, 'lgbtq_issues_topic_illuminating': 0.0, 'military_topic_illuminating': 0.0, 'race_and_ethnicity_topic_illuminating': 0.0, 'safety_topic_illuminating': 0.0, 'social_and_cultural_topic_illuminating': 0.0, 'technology_and_privacy_topic_illuminating': 0.0, 'womens_issue_topic_illuminating': 0.0, 'incivility_illuminating': 0.0, 'scam_illuminating': 0.0, 'freefair_illuminating': 0.0, 'fraud_illuminating': 0.0}\n",
            "Non-numeric: {'Facebook_Id': {'unique_count': 1, 'most_common': ('bfe51c6ac2cab17ba5c85883e76f61398031ed57e4cf62d19fd483548ebb904b', 1)}, 'post_id': {'unique_count': 1, 'most_common': ('202cc020266f6ac23ec611b9f981df3748bd4a4abdf262a1f56e7abbc48c1dea', 1)}, 'Post Created': {'unique_count': 1, 'most_common': ('2024-10-30T07:59:40.000Z', 1)}, 'Post Created Date': {'unique_count': 1, 'most_common': ('2024-10-30', 1)}, 'Post Created Time': {'unique_count': 1, 'most_common': ('07:59:40', 1)}}\n"
          ]
        }
      ]
    }
  ]
}